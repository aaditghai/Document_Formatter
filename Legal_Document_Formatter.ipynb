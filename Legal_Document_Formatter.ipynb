{
  "nbformat": 4,
  "nbformat_minor": 0,
  "metadata": {
    "colab": {
      "provenance": [],
      "include_colab_link": true
    },
    "kernelspec": {
      "name": "python3",
      "display_name": "Python 3"
    },
    "language_info": {
      "name": "python"
    }
  },
  "cells": [
    {
      "cell_type": "markdown",
      "metadata": {
        "id": "view-in-github",
        "colab_type": "text"
      },
      "source": [
        "<a href=\"https://colab.research.google.com/github/aaditghai/Document_Formatter/blob/main/Legal_Document_Formatter.ipynb\" target=\"_parent\"><img src=\"https://colab.research.google.com/assets/colab-badge.svg\" alt=\"Open In Colab\"/></a>"
      ]
    },
    {
      "cell_type": "code",
      "execution_count": null,
      "metadata": {
        "colab": {
          "base_uri": "https://localhost:8080/"
        },
        "id": "mEhQGS15evUG",
        "outputId": "a10d32fa-c37e-4043-af17-4b68bed611fe"
      },
      "outputs": [
        {
          "output_type": "stream",
          "name": "stdout",
          "text": [
            "Conversion complete! Check the 'formatted_legal.txt' file.\n"
          ]
        }
      ],
      "source": [
        "import re\n",
        "\n",
        "def convert_legal_description(file_path):\n",
        "    with open(file_path, 'r') as file:\n",
        "        legal_description = file.read()\n",
        "\n",
        "    translation_table = str.maketrans({'°': '-', \"'\": '-', '\"': '-', ',':' '})\n",
        "    legal_description = re.sub(r'(?<=[NSEW])\\.', ' ', legal_description)\n",
        "    legal_description = legal_description.translate(translation_table)\n",
        "\n",
        "\n",
        "    # Regular expression to match coordinates (N or S followed by degrees, minutes, and seconds with direction)\n",
        "    pattern = re.compile(r'([NS])\\s*(\\d{2})-(\\d{2})-(\\d{2})\\s*([WE])\\s*([\\d.]+)')\n",
        "\n",
        "    # Find all matches\n",
        "    matches = pattern.findall(legal_description)\n",
        "\n",
        "    formatted_lines = []\n",
        "\n",
        "    # Iterate over matches to format them\n",
        "    for match in matches:\n",
        "        direction1 = match[0]\n",
        "        degrees = match[1]\n",
        "        minutes = match[2]\n",
        "        seconds = match[3]\n",
        "        direction2 = match[4]\n",
        "        distance = match[5]\n",
        "\n",
        "        # Create the formatted string\n",
        "        formatted_line = f\"{direction1} {degrees}:{minutes}:{seconds} {direction2} {distance}\"\n",
        "        formatted_lines.append(formatted_line)\n",
        "\n",
        "    # Write the formatted lines to a new file or print them\n",
        "    with open('formatted_legal.txt', 'w') as output_file:\n",
        "        for line in formatted_lines:\n",
        "            output_file.write(line + '\\n')\n",
        "\n",
        "    \"\"\"\n",
        "    with open('formatted_legal.txt', 'w') as output_file:\n",
        "        for word in legal_description:\n",
        "            output_file.write(word)\n",
        "    \"\"\"\n",
        "\n",
        "    print(\"Conversion complete! Check the 'formatted_legal.txt' file.\")\n",
        "\n",
        "# Replace with the correct file name\n",
        "convert_legal_description('legal.txt')\n"
      ]
    }
  ]
}